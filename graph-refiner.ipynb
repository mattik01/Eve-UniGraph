{
 "cells": [
  {
   "cell_type": "code",
   "execution_count": null,
   "id": "a9ac94b6",
   "metadata": {},
   "outputs": [
    {
     "name": "stderr",
     "output_type": "stream",
     "text": [
      "C:\\Users\\glaes\\AppData\\Local\\Temp\\ipykernel_18084\\2927877141.py:8: DeprecationWarning: \n",
      "Pyarrow will become a required dependency of pandas in the next major release of pandas (pandas 3.0),\n",
      "(to allow more performant data types, such as the Arrow string type, and better interoperability with other libraries)\n",
      "but was not found to be installed on your system.\n",
      "If this would cause problems for you,\n",
      "please provide us feedback at https://github.com/pandas-dev/pandas/issues/54466\n",
      "        \n",
      "  import pandas as pd\n"
     ]
    }
   ],
   "source": [
    "import networkx as nx\n",
    "import pandas as pd\n",
    "from functions import *\n",
    "import shutil\n"
   ]
  },
  {
   "cell_type": "markdown",
   "id": "9c5f5b86",
   "metadata": {},
   "source": [
    "### Load/Check Graph \n",
    "manually updates the graph into G recommended before running any cell   \n",
    "\n",
    "selects a random hs ls and ns system and prints how the nodes currently look like"
   ]
  },
  {
   "cell_type": "code",
   "execution_count": 6,
   "id": "c7b91d52",
   "metadata": {},
   "outputs": [
    {
     "name": "stdout",
     "output_type": "stream",
     "text": [
      "Loaded graph with 8436 nodes and 6888 edges.\n",
      "\n",
      "Loaded table with 8436 systems.\n",
      "\n",
      "HS:\n",
      "Node 30000079:\n",
      "  name: Milu\n",
      "  system_name: Milu\n",
      "  security_status: 0.7696253061294556\n",
      "  security_class: B\n",
      "  constellation_id: 20000011\n",
      "  star_id: 40004997.0\n",
      "  planet_count: 11\n",
      "  moon_count: 66\n",
      "  station_count: 0\n",
      "  stations: nan\n",
      "  has_stargates: True\n",
      "  region_id: 10000001\n",
      "  region_name: Derelik\n",
      "  constellation_name: Orshed\n",
      "  faction_name: Ammatar Mandate\n",
      "  industry_manufacturing: 0.0014\n",
      "  industry_researching_time_efficiency: 0.0014\n",
      "  industry_researching_material_efficiency: 0.0014\n",
      "  industry_copying: 0.0014\n",
      "  industry_invention: 0.0014\n",
      "  industry_reaction: 0.0014\n",
      "  Connected systems:\n",
      "    - Tidacha (ID: 30000076)\n",
      "\n",
      "LS:\n",
      "Node 30001446:\n",
      "  name: Otsasai\n",
      "  system_name: Otsasai\n",
      "  security_status: 0.3491613268852234\n",
      "  security_class: C1\n",
      "  constellation_id: 20000212\n",
      "  star_id: 40092073.0\n",
      "  planet_count: 8\n",
      "  moon_count: 68\n",
      "  station_count: 5\n",
      "  stations: 60003604, 60003607, 60003811, ... (+2 more)\n",
      "  has_stargates: True\n",
      "  region_id: 10000016\n",
      "  region_name: Lonetrek\n",
      "  constellation_name: Mito\n",
      "  faction_name: Caldari\n",
      "  industry_manufacturing: 0.0334\n",
      "  industry_researching_time_efficiency: 0.0343\n",
      "  industry_researching_material_efficiency: 0.037\n",
      "  industry_copying: 0.0174\n",
      "  industry_invention: 0.0343\n",
      "  industry_reaction: 0.0332\n",
      "  Connected systems:\n",
      "    - Hakonen (ID: 30001448)\n",
      "    - Taisy (ID: 30001447)\n",
      "    - Oimmo (ID: 30001444)\n",
      "\n",
      "NS:\n",
      "Node 30004711:\n",
      "  name: PR-8CA\n",
      "  system_name: PR-8CA\n",
      "  security_status: -0.0265403259545564\n",
      "  security_class: G\n",
      "  constellation_id: 20000688\n",
      "  star_id: 40298157.0\n",
      "  planet_count: 8\n",
      "  moon_count: 87\n",
      "  station_count: 1\n",
      "  stations: 60014946\n",
      "  has_stargates: True\n",
      "  region_id: 10000060\n",
      "  region_name: Delve\n",
      "  constellation_name: XPJ1-6\n",
      "  faction_name: Blood Raiders\n",
      "  industry_manufacturing: 0.0014\n",
      "  industry_researching_time_efficiency: 0.0014\n",
      "  industry_researching_material_efficiency: 0.0014\n",
      "  industry_copying: 0.0014\n",
      "  industry_invention: 0.0014\n",
      "  industry_reaction: 0.0014\n",
      "  Connected systems:\n",
      "    - 1DH-SX (ID: 30004710)\n",
      "    - NOL-M9 (ID: 30004712)\n",
      "    - FWST-8 (ID: 30004718)\n",
      "\n",
      "WH:\n",
      "Node 31002569:\n",
      "  name: J003793\n",
      "  system_name: J003793\n",
      "  security_status: -0.9900000095367432\n",
      "  security_class: nan\n",
      "  constellation_id: 21000329\n",
      "  star_id: 40488122.0\n",
      "  planet_count: 8\n",
      "  moon_count: 0\n",
      "  station_count: 0\n",
      "  stations: nan\n",
      "  has_stargates: False\n",
      "  region_id: 11000024\n",
      "  region_name: E-R00024\n",
      "  constellation_name: E-C00329\n",
      "  faction_name: None\n",
      "  No connections found.\n",
      "\n"
     ]
    }
   ],
   "source": [
    "# Load graph\n",
    "BACKUP_GRAPH_PATH = 'eve_universe_backup.graphml'\n",
    "GRAPH_PATH = 'eve_universe.graphml'\n",
    "\n",
    "G = nx.read_graphml(GRAPH_PATH)\n",
    "print(f\"Loaded graph with {len(G.nodes)} nodes and {len(G.edges)} edges.\\n\")\n",
    "node_check(G)"
   ]
  },
  {
   "cell_type": "markdown",
   "id": "a5fa04b1",
   "metadata": {},
   "source": [
    "### Commit to Backup Graph\n",
    "Whenever the graph is in a not broken good state, you can push it to backup graph here. if you break the graph, you can restore it. \n",
    "(just copy and paste the contents of backup graph into the current one)"
   ]
  },
  {
   "cell_type": "code",
   "execution_count": 7,
   "id": "a2925339",
   "metadata": {},
   "outputs": [
    {
     "name": "stdout",
     "output_type": "stream",
     "text": [
      "Backup created at 'eve_universe_backup.graphml'.\n"
     ]
    }
   ],
   "source": [
    "\n",
    "GRAPH_PATH = 'eve_universe.graphml'\n",
    "BACKUP_GRAPH_PATH = 'eve_universe_backup.graphml'\n",
    "\n",
    "# Copy the current graph to a backup location\n",
    "shutil.copy(GRAPH_PATH, BACKUP_GRAPH_PATH)\n",
    "print(f\"Backup created at '{BACKUP_GRAPH_PATH}'.\")"
   ]
  },
  {
   "cell_type": "markdown",
   "id": "621e6a75",
   "metadata": {},
   "source": [
    "### Obtain/Update Info Tables\n",
    "we create some info tables in util, so we can filter more efficiently or do looksup for more specific info"
   ]
  },
  {
   "cell_type": "markdown",
   "id": "883e6eab",
   "metadata": {},
   "source": [
    "##### Systems Table"
   ]
  },
  {
   "cell_type": "code",
   "execution_count": null,
   "id": "fcf1e823",
   "metadata": {},
   "outputs": [
    {
     "name": "stdout",
     "output_type": "stream",
     "text": [
      "Saved system info table to 'util/systems_table.csv'.\n"
     ]
    },
    {
     "data": {
      "text/html": [
       "<div>\n",
       "<style scoped>\n",
       "    .dataframe tbody tr th:only-of-type {\n",
       "        vertical-align: middle;\n",
       "    }\n",
       "\n",
       "    .dataframe tbody tr th {\n",
       "        vertical-align: top;\n",
       "    }\n",
       "\n",
       "    .dataframe thead th {\n",
       "        text-align: right;\n",
       "    }\n",
       "</style>\n",
       "<table border=\"1\" class=\"dataframe\">\n",
       "  <thead>\n",
       "    <tr style=\"text-align: right;\">\n",
       "      <th></th>\n",
       "      <th>system_id</th>\n",
       "      <th>name</th>\n",
       "      <th>constellation_id</th>\n",
       "      <th>security_status</th>\n",
       "      <th>sec_type</th>\n",
       "    </tr>\n",
       "  </thead>\n",
       "  <tbody>\n",
       "    <tr>\n",
       "      <th>0</th>\n",
       "      <td>30000001</td>\n",
       "      <td>Tanoo</td>\n",
       "      <td>20000001</td>\n",
       "      <td>0.858324</td>\n",
       "      <td>HS</td>\n",
       "    </tr>\n",
       "    <tr>\n",
       "      <th>1</th>\n",
       "      <td>30000003</td>\n",
       "      <td>Akpivem</td>\n",
       "      <td>20000001</td>\n",
       "      <td>0.846292</td>\n",
       "      <td>HS</td>\n",
       "    </tr>\n",
       "    <tr>\n",
       "      <th>2</th>\n",
       "      <td>30000005</td>\n",
       "      <td>Sasta</td>\n",
       "      <td>20000001</td>\n",
       "      <td>0.814337</td>\n",
       "      <td>HS</td>\n",
       "    </tr>\n",
       "    <tr>\n",
       "      <th>3</th>\n",
       "      <td>30000007</td>\n",
       "      <td>Yuzier</td>\n",
       "      <td>20000001</td>\n",
       "      <td>0.906556</td>\n",
       "      <td>HS</td>\n",
       "    </tr>\n",
       "    <tr>\n",
       "      <th>4</th>\n",
       "      <td>30000002</td>\n",
       "      <td>Lashesih</td>\n",
       "      <td>20000001</td>\n",
       "      <td>0.751689</td>\n",
       "      <td>HS</td>\n",
       "    </tr>\n",
       "  </tbody>\n",
       "</table>\n",
       "</div>"
      ],
      "text/plain": [
       "  system_id      name  constellation_id  security_status sec_type\n",
       "0  30000001     Tanoo          20000001         0.858324       HS\n",
       "1  30000003   Akpivem          20000001         0.846292       HS\n",
       "2  30000005     Sasta          20000001         0.814337       HS\n",
       "3  30000007    Yuzier          20000001         0.906556       HS\n",
       "4  30000002  Lashesih          20000001         0.751689       HS"
      ]
     },
     "execution_count": 3,
     "metadata": {},
     "output_type": "execute_result"
    }
   ],
   "source": [
    "OUTPUT_TABLE_PATH = \"util/systems_table.csv\"\n",
    "\n",
    "# Build rows for the system table\n",
    "rows = []\n",
    "for node_id, data in G.nodes(data=True):\n",
    "    try:\n",
    "        sec = float(data.get(\"security_status\", -1.0))\n",
    "    except ValueError:\n",
    "        sec = -1.0\n",
    "\n",
    "    sec_type = classify_sec_type(sec)\n",
    "\n",
    "    rows.append({\n",
    "        \"system_id\": node_id,\n",
    "        \"name\": data.get(\"system_name\", data.get(\"name\", \"Unknown\")),\n",
    "        \"constellation_id\": data.get(\"constellation_id\", \"N/A\"),\n",
    "        \"security_status\": sec,\n",
    "        \"sec_type\": sec_type\n",
    "    })\n",
    "\n",
    "# Convert to DataFrame\n",
    "df_systems = pd.DataFrame(rows)\n",
    "df_systems.to_csv(OUTPUT_TABLE_PATH, index=False)\n",
    "print(f\"Saved system info table to '{OUTPUT_TABLE_PATH}'.\")\n",
    "\n",
    "# Optional preview\n",
    "df_systems.head()"
   ]
  },
  {
   "cell_type": "markdown",
   "id": "885644ab",
   "metadata": {},
   "source": [
    "##### Station Table"
   ]
  },
  {
   "cell_type": "code",
   "execution_count": 3,
   "id": "396f0f15",
   "metadata": {},
   "outputs": [
    {
     "data": {
      "application/vnd.jupyter.widget-view+json": {
       "model_id": "a4e452c10c8d444f8abb9bc25db4e625",
       "version_major": 2,
       "version_minor": 0
      },
      "text/plain": [
       "Downloading system metadata:   0%|          | 0/8436 [00:00<?, ?it/s]"
      ]
     },
     "metadata": {},
     "output_type": "display_data"
    },
    {
     "name": "stdout",
     "output_type": "stream",
     "text": [
      "Saved system metadata to 'util/systems_table.csv'.\n"
     ]
    }
   ],
   "source": [
    "update_system_table(G)\n"
   ]
  },
  {
   "cell_type": "markdown",
   "id": "beb711b0",
   "metadata": {},
   "source": [
    "##### small helper functions. that creates a station serice lookup file, if you want to see what could be available\n",
    "station_services.json  \n",
    "no need to rerun this in the near future. "
   ]
  },
  {
   "cell_type": "code",
   "execution_count": 2,
   "id": "1aa4e021",
   "metadata": {},
   "outputs": [
    {
     "name": "stdout",
     "output_type": "stream",
     "text": [
      "Saved 26 unique station services to 'util/station_services.json'.\n"
     ]
    }
   ],
   "source": [
    "extract_station_services()\n"
   ]
  },
  {
   "cell_type": "markdown",
   "id": "5089a3dc",
   "metadata": {},
   "source": [
    "##### Obtain/Update Region/Constallation Map\n",
    "no need to rerun this in the near future"
   ]
  },
  {
   "cell_type": "code",
   "execution_count": 3,
   "id": "255accab",
   "metadata": {},
   "outputs": [
    {
     "data": {
      "application/vnd.jupyter.widget-view+json": {
       "model_id": "82ec2d29b2f7455cadc7ec83d390ef7b",
       "version_major": 2,
       "version_minor": 0
      },
      "text/plain": [
       "Fetching constellations:   0%|          | 0/1174 [00:00<?, ?it/s]"
      ]
     },
     "metadata": {},
     "output_type": "display_data"
    },
    {
     "data": {
      "application/vnd.jupyter.widget-view+json": {
       "model_id": "07137a8ab2584252bc0a308d1507cef9",
       "version_major": 2,
       "version_minor": 0
      },
      "text/plain": [
       "Fetching regions:   0%|          | 0/112 [00:00<?, ?it/s]"
      ]
     },
     "metadata": {},
     "output_type": "display_data"
    },
    {
     "name": "stdout",
     "output_type": "stream",
     "text": [
      "Saved system/constellation/region table to 'util/system_constellation_region.csv'.\n"
     ]
    }
   ],
   "source": [
    "build_system_constellation_region_table(G)"
   ]
  },
  {
   "cell_type": "markdown",
   "id": "a5a45f25",
   "metadata": {},
   "source": [
    "## Graph Refinement\n",
    "the cells below are intended to modify or update the universe graph"
   ]
  },
  {
   "cell_type": "markdown",
   "id": "b493b6cb",
   "metadata": {},
   "source": [
    "##### Add/Update System Data"
   ]
  },
  {
   "cell_type": "code",
   "execution_count": null,
   "id": "3fd0df10",
   "metadata": {},
   "outputs": [
    {
     "name": "stdout",
     "output_type": "stream",
     "text": [
      "Graph updated with system metadata from CSV.\n"
     ]
    }
   ],
   "source": [
    "load_system_data_to_graph(G)\n",
    "nx.write_graphml(G, GRAPH_PATH)\n"
   ]
  },
  {
   "cell_type": "markdown",
   "id": "0420f705",
   "metadata": {},
   "source": [
    "##### Add/Update Region Data\n",
    "based on the util/system_constellation_region.csv table"
   ]
  },
  {
   "cell_type": "code",
   "execution_count": null,
   "id": "2079ce7f",
   "metadata": {},
   "outputs": [],
   "source": [
    "update_graph_with_region_info(G)\n",
    "nx.write_graphml(G, GRAPH_PATH)\n"
   ]
  },
  {
   "cell_type": "markdown",
   "id": "f325647b",
   "metadata": {},
   "source": [
    "##### Add/Update Faction Info based on region to faction map\n",
    "I made that map myself, It is region and not faction specific, it might not be totally accurate in all cases"
   ]
  },
  {
   "cell_type": "code",
   "execution_count": null,
   "id": "f0125ced",
   "metadata": {},
   "outputs": [
    {
     "name": "stdout",
     "output_type": "stream",
     "text": [
      "Updated 'faction_name' field for all systems.\n"
     ]
    }
   ],
   "source": [
    "assign_factions_by_region(G)\n",
    "nx.write_graphml(G, GRAPH_PATH)\n"
   ]
  },
  {
   "cell_type": "markdown",
   "id": "f9c975e4",
   "metadata": {},
   "source": [
    "### Update/Add Industry indeces. "
   ]
  },
  {
   "cell_type": "code",
   "execution_count": 5,
   "id": "2dbb6b3a",
   "metadata": {},
   "outputs": [
    {
     "name": "stdout",
     "output_type": "stream",
     "text": [
      "Fetching industry index data...\n"
     ]
    },
    {
     "data": {
      "application/vnd.jupyter.widget-view+json": {
       "model_id": "d8fd6e6d0b5e4dbb88792e67b6ab4ef6",
       "version_major": 2,
       "version_minor": 0
      },
      "text/plain": [
       "Updating graph with industry data:   0%|          | 0/5432 [00:00<?, ?it/s]"
      ]
     },
     "metadata": {},
     "output_type": "display_data"
    },
    {
     "name": "stdout",
     "output_type": "stream",
     "text": [
      "Updated industry indices for 5432 systems. Skipped 0 systems (not in graph).\n"
     ]
    }
   ],
   "source": [
    "update_graph_with_industry_indices(G)\n",
    "nx.write_graphml(G, GRAPH_PATH)\n"
   ]
  },
  {
   "cell_type": "markdown",
   "id": "c57ca64a",
   "metadata": {},
   "source": [
    "### Update System activity routine\n",
    "adds an entry to the system activity csv files with timestaps for the last 24 hours"
   ]
  },
  {
   "cell_type": "code",
   "execution_count": 5,
   "id": "0113058a",
   "metadata": {},
   "outputs": [
    {
     "name": "stdout",
     "output_type": "stream",
     "text": [
      "Updated activity data for 8436 systems.\n"
     ]
    }
   ],
   "source": [
    "update_activity_snapshots(G)"
   ]
  }
 ],
 "metadata": {
  "kernelspec": {
   "display_name": "Python 3",
   "language": "python",
   "name": "python3"
  },
  "language_info": {
   "codemirror_mode": {
    "name": "ipython",
    "version": 3
   },
   "file_extension": ".py",
   "mimetype": "text/x-python",
   "name": "python",
   "nbconvert_exporter": "python",
   "pygments_lexer": "ipython3",
   "version": "3.12.10"
  }
 },
 "nbformat": 4,
 "nbformat_minor": 5
}
